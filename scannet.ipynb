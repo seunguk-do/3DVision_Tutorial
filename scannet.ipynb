{
 "cells": [
  {
   "cell_type": "markdown",
   "id": "e8d08a92-6775-4a27-8458-f27b5d9e1077",
   "metadata": {},
   "source": [
    "### 삼성 AI Expert 과정 알고리즘 강의 1일차 실습\n",
    "### 3D Point Cloud Semantic Segmentation\n",
    "\n",
    "1. confusion_matrix_to_metrics 함수 작성하기\n",
    "2. MinkUNet18 모델 학습시키고 metric 확인하기\n"
   ]
  },
  {
   "cell_type": "code",
   "execution_count": 6,
   "id": "41796564-6732-478d-b6fe-e71ceffbfc41",
   "metadata": {},
   "outputs": [],
   "source": [
    "# link downloaded data\n",
    "!ln -s /data /app/data"
   ]
  },
  {
   "cell_type": "code",
   "execution_count": 17,
   "id": "240c49b1-3da0-4e2c-94cd-d6eaa6a255dd",
   "metadata": {},
   "outputs": [],
   "source": [
    "from typing import Dict, List, Optional, Tuple\n",
    "import yaml\n",
    "\n",
    "try:\n",
    "    import hydra\n",
    "    from hydra.core.config_store import ConfigStore\n",
    "    from omegaconf import DictConfig, OmegaConf\n",
    "except ImportError:\n",
    "    print(\"Hydra and OmegaConf not installed, pip install hydra-core omegaconf\")\n",
    "    exit(1)\n",
    "\n",
    "import time\n",
    "\n",
    "import numpy as np\n",
    "import torch\n",
    "import torch.nn as nn\n",
    "import torch.nn.functional as F\n",
    "import torch.optim as optim\n",
    "import warp as wp\n",
    "from torch import Tensor\n",
    "from torch.optim.lr_scheduler import StepLR\n",
    "from torch.utils.data import DataLoader, Subset\n",
    "from torchmetrics.classification import MulticlassConfusionMatrix\n",
    "from tqdm import tqdm\n",
    "from warpconvnet.dataset.scannet import ScanNetDataset\n",
    "from warpconvnet.geometry.base.geometry import Geometry\n",
    "from warpconvnet.geometry.types.points import Points\n",
    "from warpconvnet.nn.modules.sparse_pool import PointToSparseWrapper\n",
    "\n",
    "from mink_unet import MinkUNet18\n",
    "from point_transformer_v3 import PointTransformerV3"
   ]
  },
  {
   "cell_type": "code",
   "execution_count": 52,
   "id": "aa4e21ef-90b0-4908-91f7-f26ae6a93bec",
   "metadata": {},
   "outputs": [],
   "source": [
    "# Embedded YAML configuration\n",
    "CONFIG_YAML = \"\"\"\n",
    "# Path configuration\n",
    "paths:\n",
    "  data_dir: ./data/scannet_3d\n",
    "  output_dir: ./results/\n",
    "  ckpt_path: null\n",
    "\n",
    "# Training configuration.\n",
    "train:\n",
    "  batch_size: 12\n",
    "  lr: 0.001\n",
    "  epochs: 50\n",
    "  step_size: 20\n",
    "  gamma: 0.7\n",
    "  num_workers: 8\n",
    "\n",
    "# Testing configuration\n",
    "test:\n",
    "  batch_size: 12\n",
    "  num_workers: 4\n",
    "\n",
    "# Dataset configuration\n",
    "data:\n",
    "  num_classes: 20\n",
    "  voxel_size: 0.02\n",
    "  ignore_index: 255\n",
    "\n",
    "# Model configuration\n",
    "model:\n",
    "  _target_: mink_unet.MinkUNet18\n",
    "  in_channels: 3\n",
    "  out_channels: 20\n",
    "  in_type: \"voxel\"\n",
    "\n",
    "# General configuration\n",
    "device: \"cuda\"\n",
    "use_wandb: false\n",
    "seed: 42\n",
    "\"\"\""
   ]
  },
  {
   "cell_type": "code",
   "execution_count": 18,
   "id": "4947f081-7251-4c19-bc95-121cb73f4b88",
   "metadata": {},
   "outputs": [],
   "source": [
    "def set_seed(seed: int):\n",
    "    np.random.seed(seed)\n",
    "    torch.manual_seed(seed)\n",
    "    torch.cuda.manual_seed_all(seed)\n",
    "    torch.backends.cudnn.deterministic = True\n",
    "    torch.backends.cudnn.benchmark = False\n",
    "\n",
    "def collate_fn(batch: List[Dict[str, Tensor]]):\n",
    "    \"\"\"\n",
    "    Return dict of list of tensors\n",
    "    \"\"\"\n",
    "    keys = batch[0].keys()\n",
    "    return {key: [torch.tensor(item[key]) for item in batch] for key in keys}\n",
    "\n",
    "\n",
    "class DataToTensor:\n",
    "    def __init__(\n",
    "        self,\n",
    "        device: str = \"cuda\",\n",
    "    ):\n",
    "        self.device = device\n",
    "\n",
    "    def __call__(self, batch_dict: Dict[str, Tensor]) -> Tuple[Geometry, Dict[str, Tensor]]:\n",
    "        # cat all features into a single tensor\n",
    "        cat_batch_dict = {k: torch.cat(v, dim=0).to(self.device) for k, v in batch_dict.items()}\n",
    "        return (\n",
    "            Points.from_list_of_coordinates(\n",
    "                batch_dict[\"coords\"],\n",
    "                features=batch_dict[\"colors\"],\n",
    "            ).to(self.device),\n",
    "            cat_batch_dict,\n",
    "        )\n",
    "\n",
    "\n",
    "def confusion_matrix_to_metrics(conf_matrix: Tensor) -> Dict[str, float]:\n",
    "    \"\"\"\n",
    "    Return accuracy, miou, class_iou, class_accuracy\n",
    "\n",
    "    Rows are ground truth, columns are predictions.\n",
    "    \"\"\"\n",
    "    conf_matrix = conf_matrix.cpu()\n",
    "    accuracy = (conf_matrix.diag().sum() / conf_matrix.sum()).item() * 100\n",
    "    class_accuracy = (conf_matrix.diag() / conf_matrix.sum(dim=1)) * 100\n",
    "    class_iou = conf_matrix.diag() / (\n",
    "        conf_matrix.sum(dim=1) + conf_matrix.sum(dim=0) - conf_matrix.diag()\n",
    "    )\n",
    "    miou = class_iou.mean().item() * 100\n",
    "    return {\n",
    "        \"accuracy\": accuracy,\n",
    "        \"miou\": miou,\n",
    "        \"class_iou\": class_iou,\n",
    "        \"class_accuracy\": class_accuracy,\n",
    "    }"
   ]
  },
  {
   "cell_type": "code",
   "execution_count": 44,
   "id": "d427bead-5852-4bab-a6b7-32829817fc43",
   "metadata": {},
   "outputs": [],
   "source": [
    "@torch.amp.autocast(device_type=\"cuda\", enabled=True)\n",
    "def train(\n",
    "    model: nn.Module,\n",
    "    train_loader: DataLoader,\n",
    "    optimizer: optim.Optimizer,\n",
    "    epoch: int,\n",
    "    cfg: DictConfig,\n",
    "):\n",
    "    model.train()\n",
    "    bar = tqdm(train_loader)\n",
    "    dict_to_data = DataToTensor(device=cfg.device)\n",
    "    for batch_dict in bar:\n",
    "        start_time = time.time()\n",
    "        optimizer.zero_grad()\n",
    "        st, batch_dict = dict_to_data(batch_dict)\n",
    "        output = model(st.to(cfg.device))\n",
    "        loss = F.cross_entropy(\n",
    "            output.features,\n",
    "            batch_dict[\"labels\"].long().to(cfg.device),\n",
    "            reduction=\"mean\",\n",
    "            ignore_index=cfg.data.ignore_index,\n",
    "        )\n",
    "        loss.backward()\n",
    "        optimizer.step()\n",
    "        bar.set_description(f\"Train Epoch: {epoch} Loss: {loss.item(): .3f}\")\n",
    "\n",
    "\n",
    "@torch.amp.autocast(device_type=\"cuda\", enabled=True)\n",
    "@torch.inference_mode()\n",
    "def test(\n",
    "    model: nn.Module,\n",
    "    test_loader: DataLoader,\n",
    "    cfg: DictConfig,\n",
    "    num_test_batches: Optional[int] = None,\n",
    "    save_visuals: bool = False,\n",
    "):\n",
    "    model.eval()\n",
    "    torch.cuda.empty_cache()\n",
    "    confusion_matrix = MulticlassConfusionMatrix(\n",
    "        num_classes=cfg.data.num_classes, ignore_index=cfg.data.ignore_index\n",
    "    ).to(cfg.device)\n",
    "    test_loss = 0\n",
    "    num_batches = 0\n",
    "\n",
    "    visual_data = []\n",
    "    dict_to_data = DataToTensor(device=cfg.device)\n",
    "    for batch_dict in tqdm(test_loader):\n",
    "        original_batch_dict = batch_dict\n",
    "        st, batch_dict = dict_to_data(batch_dict)\n",
    "        output = model(st.to(cfg.device))\n",
    "        labels = batch_dict[\"labels\"].long().to(cfg.device)\n",
    "        test_loss += F.cross_entropy(\n",
    "            output.features,\n",
    "            labels,\n",
    "            reduction=\"mean\",\n",
    "            ignore_index=cfg.data.ignore_index,\n",
    "        ).item()\n",
    "        pred = output.features.argmax(dim=1)\n",
    "        confusion_matrix.update(pred, labels)\n",
    "\n",
    "        if save_visuals:\n",
    "            num_items_in_batch = len(st.offsets) - 1\n",
    "            for i in range(num_items_in_batch):\n",
    "                start_idx = st.offsets[i]\n",
    "                end_idx = st.offsets[i+1]\n",
    "\n",
    "                visual_data.append({\n",
    "                    \"coords\": original_batch_dict[\"coords\"][i],\n",
    "                    \"colors\": original_batch_dict[\"colors\"][i],\n",
    "                    \"preds\": pred[start_idx:end_idx].cpu(),\n",
    "                    \"labels\": labels[start_idx:end_idx].cpu(),\n",
    "                })\n",
    "        \n",
    "        num_batches += 1\n",
    "        if num_test_batches is not None and num_batches >= num_test_batches:\n",
    "            break\n",
    "\n",
    "    if save_visuals and visual_data:\n",
    "        save_path = cfg.paths.output_dir + \"visual_predictions.pt\"\n",
    "        os.makedirs(cfg.paths.output_dir, exist_ok=True)\n",
    "        torch.save(visual_data, save_path)\n",
    "        print(f\"\\nSaved visualization data for {len(visual_data)} point clouds to {save_path}\")\n",
    "\n",
    "    metrics = confusion_matrix_to_metrics(confusion_matrix.compute())\n",
    "    \n",
    "    print(\n",
    "        f\"\\nTest set: Average loss: {test_loss / num_batches: .4f}, Accuracy: {metrics['accuracy']: .2f}%, mIoU: {metrics['miou']: .2f}%\\n\"\n",
    "    )\n",
    "    return metrics\n"
   ]
  },
  {
   "cell_type": "code",
   "execution_count": 53,
   "id": "5e30b094-69a5-42c9-901b-5ae347a3ec3a",
   "metadata": {},
   "outputs": [
    {
     "name": "stdout",
     "output_type": "stream",
     "text": [
      "paths:\n",
      "  data_dir: ./data/scannet_3d\n",
      "  output_dir: ./results/\n",
      "  ckpt_path: null\n",
      "train:\n",
      "  batch_size: 12\n",
      "  lr: 0.001\n",
      "  epochs: 50\n",
      "  step_size: 20\n",
      "  gamma: 0.7\n",
      "  num_workers: 8\n",
      "test:\n",
      "  batch_size: 12\n",
      "  num_workers: 4\n",
      "data:\n",
      "  num_classes: 20\n",
      "  voxel_size: 0.02\n",
      "  ignore_index: 255\n",
      "model:\n",
      "  _target_: mink_unet.MinkUNet18\n",
      "  in_channels: 3\n",
      "  out_channels: 20\n",
      "  in_type: voxel\n",
      "device: cuda\n",
      "use_wandb: false\n",
      "seed: 42\n",
      "\n"
     ]
    },
    {
     "name": "stderr",
     "output_type": "stream",
     "text": [
      " 80%|██████████████████████████████████████████████████████████████████████████████████████████████████████████████████████▍                             | 4/5 [00:02<00:00,  1.34it/s]\n"
     ]
    },
    {
     "name": "stdout",
     "output_type": "stream",
     "text": [
      "\n",
      "Test set: Average loss:  2.9742, Accuracy:  2.69%, mIoU:  0.40%\n",
      "\n"
     ]
    },
    {
     "name": "stderr",
     "output_type": "stream",
     "text": [
      "Train Epoch: 1 Loss:  1.991: 100%|███████████████████████████████████████████████████████████████████████████████████████████████████████████████████████| 9/9 [03:29<00:00, 23.32s/it]\n",
      "100%|████████████████████████████████████████████████████████████████████████████████████████████████████████████████████████████████████████████████████| 5/5 [00:03<00:00,  1.65it/s]\n"
     ]
    },
    {
     "name": "stdout",
     "output_type": "stream",
     "text": [
      "\n",
      "Test set: Average loss:  2.3006, Accuracy:  51.35%, mIoU:  5.30%\n",
      "\n"
     ]
    },
    {
     "name": "stderr",
     "output_type": "stream",
     "text": [
      "Train Epoch: 2 Loss:  1.663: 100%|███████████████████████████████████████████████████████████████████████████████████████████████████████████████████████| 9/9 [03:32<00:00, 23.59s/it]\n",
      "100%|████████████████████████████████████████████████████████████████████████████████████████████████████████████████████████████████████████████████████| 5/5 [00:03<00:00,  1.66it/s]\n"
     ]
    },
    {
     "name": "stdout",
     "output_type": "stream",
     "text": [
      "\n",
      "Test set: Average loss:  1.9059, Accuracy:  51.88%, mIoU:  5.43%\n",
      "\n"
     ]
    },
    {
     "name": "stderr",
     "output_type": "stream",
     "text": [
      "Train Epoch: 3 Loss:  1.563: 100%|███████████████████████████████████████████████████████████████████████████████████████████████████████████████████████| 9/9 [03:31<00:00, 23.49s/it]\n",
      "100%|████████████████████████████████████████████████████████████████████████████████████████████████████████████████████████████████████████████████████| 5/5 [00:03<00:00,  1.64it/s]\n"
     ]
    },
    {
     "name": "stdout",
     "output_type": "stream",
     "text": [
      "\n",
      "Test set: Average loss:  7.7299, Accuracy:  46.06%, mIoU:  6.69%\n",
      "\n"
     ]
    },
    {
     "name": "stderr",
     "output_type": "stream",
     "text": [
      "Train Epoch: 4 Loss:  2.003: 100%|███████████████████████████████████████████████████████████████████████████████████████████████████████████████████████| 9/9 [03:32<00:00, 23.62s/it]\n",
      "100%|████████████████████████████████████████████████████████████████████████████████████████████████████████████████████████████████████████████████████| 5/5 [00:02<00:00,  1.68it/s]\n"
     ]
    },
    {
     "name": "stdout",
     "output_type": "stream",
     "text": [
      "\n",
      "Test set: Average loss:  27.6449, Accuracy:  42.38%, mIoU:  5.69%\n",
      "\n"
     ]
    },
    {
     "name": "stderr",
     "output_type": "stream",
     "text": [
      "Train Epoch: 5 Loss:  1.667: 100%|███████████████████████████████████████████████████████████████████████████████████████████████████████████████████████| 9/9 [03:31<00:00, 23.50s/it]\n",
      "100%|████████████████████████████████████████████████████████████████████████████████████████████████████████████████████████████████████████████████████| 5/5 [00:02<00:00,  1.68it/s]\n"
     ]
    },
    {
     "name": "stdout",
     "output_type": "stream",
     "text": [
      "\n",
      "Test set: Average loss:  nan, Accuracy:  36.05%, mIoU:  4.73%\n",
      "\n"
     ]
    },
    {
     "name": "stderr",
     "output_type": "stream",
     "text": [
      "Train Epoch: 6 Loss:  2.008: 100%|███████████████████████████████████████████████████████████████████████████████████████████████████████████████████████| 9/9 [03:29<00:00, 23.32s/it]\n",
      "100%|████████████████████████████████████████████████████████████████████████████████████████████████████████████████████████████████████████████████████| 5/5 [00:03<00:00,  1.67it/s]\n"
     ]
    },
    {
     "name": "stdout",
     "output_type": "stream",
     "text": [
      "\n",
      "Test set: Average loss:  13.0819, Accuracy:  47.84%, mIoU:  6.35%\n",
      "\n"
     ]
    },
    {
     "name": "stderr",
     "output_type": "stream",
     "text": [
      "Train Epoch: 7 Loss:  1.924: 100%|███████████████████████████████████████████████████████████████████████████████████████████████████████████████████████| 9/9 [03:31<00:00, 23.50s/it]\n",
      "100%|████████████████████████████████████████████████████████████████████████████████████████████████████████████████████████████████████████████████████| 5/5 [00:03<00:00,  1.64it/s]\n"
     ]
    },
    {
     "name": "stdout",
     "output_type": "stream",
     "text": [
      "\n",
      "Test set: Average loss:  2.5533, Accuracy:  52.98%, mIoU:  7.36%\n",
      "\n"
     ]
    },
    {
     "name": "stderr",
     "output_type": "stream",
     "text": [
      "Train Epoch: 8 Loss:  1.712: 100%|███████████████████████████████████████████████████████████████████████████████████████████████████████████████████████| 9/9 [03:31<00:00, 23.50s/it]\n",
      "100%|████████████████████████████████████████████████████████████████████████████████████████████████████████████████████████████████████████████████████| 5/5 [00:02<00:00,  1.67it/s]\n"
     ]
    },
    {
     "name": "stdout",
     "output_type": "stream",
     "text": [
      "\n",
      "Test set: Average loss:  2.3821, Accuracy:  51.41%, mIoU:  6.70%\n",
      "\n"
     ]
    },
    {
     "name": "stderr",
     "output_type": "stream",
     "text": [
      "Train Epoch: 9 Loss:  1.798: 100%|███████████████████████████████████████████████████████████████████████████████████████████████████████████████████████| 9/9 [03:32<00:00, 23.59s/it]\n",
      "100%|████████████████████████████████████████████████████████████████████████████████████████████████████████████████████████████████████████████████████| 5/5 [00:03<00:00,  1.67it/s]\n"
     ]
    },
    {
     "name": "stdout",
     "output_type": "stream",
     "text": [
      "\n",
      "Test set: Average loss:  2.1694, Accuracy:  50.82%, mIoU:  6.54%\n",
      "\n"
     ]
    },
    {
     "name": "stderr",
     "output_type": "stream",
     "text": [
      "Train Epoch: 10 Loss:  1.670: 100%|██████████████████████████████████████████████████████████████████████████████████████████████████████████████████████| 9/9 [03:30<00:00, 23.36s/it]\n",
      "100%|████████████████████████████████████████████████████████████████████████████████████████████████████████████████████████████████████████████████████| 5/5 [00:02<00:00,  1.67it/s]\n"
     ]
    },
    {
     "name": "stdout",
     "output_type": "stream",
     "text": [
      "\n",
      "Test set: Average loss:  2.4413, Accuracy:  48.64%, mIoU:  5.67%\n",
      "\n"
     ]
    },
    {
     "name": "stderr",
     "output_type": "stream",
     "text": [
      "Train Epoch: 11 Loss:  1.548: 100%|██████████████████████████████████████████████████████████████████████████████████████████████████████████████████████| 9/9 [03:31<00:00, 23.54s/it]\n",
      "100%|████████████████████████████████████████████████████████████████████████████████████████████████████████████████████████████████████████████████████| 5/5 [00:03<00:00,  1.65it/s]\n"
     ]
    },
    {
     "name": "stdout",
     "output_type": "stream",
     "text": [
      "\n",
      "Test set: Average loss:  1.9243, Accuracy:  51.93%, mIoU:  6.31%\n",
      "\n"
     ]
    },
    {
     "name": "stderr",
     "output_type": "stream",
     "text": [
      "Train Epoch: 12 Loss:  1.634: 100%|██████████████████████████████████████████████████████████████████████████████████████████████████████████████████████| 9/9 [03:31<00:00, 23.45s/it]\n",
      "100%|████████████████████████████████████████████████████████████████████████████████████████████████████████████████████████████████████████████████████| 5/5 [00:02<00:00,  1.67it/s]\n"
     ]
    },
    {
     "name": "stdout",
     "output_type": "stream",
     "text": [
      "\n",
      "Test set: Average loss:  1.8039, Accuracy:  54.11%, mIoU:  6.45%\n",
      "\n"
     ]
    },
    {
     "name": "stderr",
     "output_type": "stream",
     "text": [
      "Train Epoch: 13 Loss:  1.830: 100%|██████████████████████████████████████████████████████████████████████████████████████████████████████████████████████| 9/9 [03:30<00:00, 23.42s/it]\n",
      "100%|████████████████████████████████████████████████████████████████████████████████████████████████████████████████████████████████████████████████████| 5/5 [00:03<00:00,  1.66it/s]\n"
     ]
    },
    {
     "name": "stdout",
     "output_type": "stream",
     "text": [
      "\n",
      "Test set: Average loss:  1.8087, Accuracy:  53.91%, mIoU:  6.71%\n",
      "\n"
     ]
    },
    {
     "name": "stderr",
     "output_type": "stream",
     "text": [
      "Train Epoch: 14 Loss:  1.414: 100%|██████████████████████████████████████████████████████████████████████████████████████████████████████████████████████| 9/9 [03:32<00:00, 23.61s/it]\n",
      "100%|████████████████████████████████████████████████████████████████████████████████████████████████████████████████████████████████████████████████████| 5/5 [00:03<00:00,  1.66it/s]\n"
     ]
    },
    {
     "name": "stdout",
     "output_type": "stream",
     "text": [
      "\n",
      "Test set: Average loss:  1.7837, Accuracy:  53.72%, mIoU:  6.56%\n",
      "\n"
     ]
    },
    {
     "name": "stderr",
     "output_type": "stream",
     "text": [
      "Train Epoch: 15 Loss:  1.709: 100%|██████████████████████████████████████████████████████████████████████████████████████████████████████████████████████| 9/9 [03:31<00:00, 23.45s/it]\n",
      "100%|████████████████████████████████████████████████████████████████████████████████████████████████████████████████████████████████████████████████████| 5/5 [00:02<00:00,  1.67it/s]\n"
     ]
    },
    {
     "name": "stdout",
     "output_type": "stream",
     "text": [
      "\n",
      "Test set: Average loss:  1.7421, Accuracy:  54.10%, mIoU:  6.76%\n",
      "\n"
     ]
    },
    {
     "name": "stderr",
     "output_type": "stream",
     "text": [
      "Train Epoch: 16 Loss:  1.524: 100%|██████████████████████████████████████████████████████████████████████████████████████████████████████████████████████| 9/9 [03:30<00:00, 23.42s/it]\n",
      "100%|████████████████████████████████████████████████████████████████████████████████████████████████████████████████████████████████████████████████████| 5/5 [00:03<00:00,  1.66it/s]\n"
     ]
    },
    {
     "name": "stdout",
     "output_type": "stream",
     "text": [
      "\n",
      "Test set: Average loss:  1.7893, Accuracy:  53.41%, mIoU:  6.66%\n",
      "\n"
     ]
    },
    {
     "name": "stderr",
     "output_type": "stream",
     "text": [
      "Train Epoch: 17 Loss:  1.612: 100%|██████████████████████████████████████████████████████████████████████████████████████████████████████████████████████| 9/9 [03:30<00:00, 23.40s/it]\n",
      "100%|████████████████████████████████████████████████████████████████████████████████████████████████████████████████████████████████████████████████████| 5/5 [00:02<00:00,  1.67it/s]\n"
     ]
    },
    {
     "name": "stdout",
     "output_type": "stream",
     "text": [
      "\n",
      "Test set: Average loss:  1.8520, Accuracy:  53.03%, mIoU:  6.44%\n",
      "\n"
     ]
    },
    {
     "name": "stderr",
     "output_type": "stream",
     "text": [
      "Train Epoch: 18 Loss:  1.481: 100%|██████████████████████████████████████████████████████████████████████████████████████████████████████████████████████| 9/9 [03:31<00:00, 23.46s/it]\n",
      "100%|████████████████████████████████████████████████████████████████████████████████████████████████████████████████████████████████████████████████████| 5/5 [00:03<00:00,  1.66it/s]\n"
     ]
    },
    {
     "name": "stdout",
     "output_type": "stream",
     "text": [
      "\n",
      "Test set: Average loss:  1.8511, Accuracy:  53.48%, mIoU:  6.88%\n",
      "\n"
     ]
    },
    {
     "name": "stderr",
     "output_type": "stream",
     "text": [
      "Train Epoch: 19 Loss:  1.620: 100%|██████████████████████████████████████████████████████████████████████████████████████████████████████████████████████| 9/9 [03:32<00:00, 23.61s/it]\n",
      "100%|████████████████████████████████████████████████████████████████████████████████████████████████████████████████████████████████████████████████████| 5/5 [00:03<00:00,  1.66it/s]\n"
     ]
    },
    {
     "name": "stdout",
     "output_type": "stream",
     "text": [
      "\n",
      "Test set: Average loss:  1.9914, Accuracy:  51.23%, mIoU:  6.46%\n",
      "\n"
     ]
    },
    {
     "name": "stderr",
     "output_type": "stream",
     "text": [
      "Train Epoch: 20 Loss:  1.429: 100%|██████████████████████████████████████████████████████████████████████████████████████████████████████████████████████| 9/9 [03:32<00:00, 23.56s/it]\n",
      "100%|████████████████████████████████████████████████████████████████████████████████████████████████████████████████████████████████████████████████████| 5/5 [00:03<00:00,  1.64it/s]\n"
     ]
    },
    {
     "name": "stdout",
     "output_type": "stream",
     "text": [
      "\n",
      "Test set: Average loss:  1.8228, Accuracy:  52.49%, mIoU:  6.03%\n",
      "\n"
     ]
    },
    {
     "name": "stderr",
     "output_type": "stream",
     "text": [
      "Train Epoch: 21 Loss:  1.658: 100%|██████████████████████████████████████████████████████████████████████████████████████████████████████████████████████| 9/9 [03:31<00:00, 23.45s/it]\n",
      "100%|████████████████████████████████████████████████████████████████████████████████████████████████████████████████████████████████████████████████████| 5/5 [00:02<00:00,  1.67it/s]\n"
     ]
    },
    {
     "name": "stdout",
     "output_type": "stream",
     "text": [
      "\n",
      "Test set: Average loss:  1.8418, Accuracy:  52.50%, mIoU:  6.32%\n",
      "\n"
     ]
    },
    {
     "name": "stderr",
     "output_type": "stream",
     "text": [
      "Train Epoch: 22 Loss:  1.812: 100%|██████████████████████████████████████████████████████████████████████████████████████████████████████████████████████| 9/9 [03:31<00:00, 23.45s/it]\n",
      "100%|████████████████████████████████████████████████████████████████████████████████████████████████████████████████████████████████████████████████████| 5/5 [00:03<00:00,  1.64it/s]\n"
     ]
    },
    {
     "name": "stdout",
     "output_type": "stream",
     "text": [
      "\n",
      "Test set: Average loss:  1.7600, Accuracy:  52.91%, mIoU:  6.52%\n",
      "\n"
     ]
    },
    {
     "name": "stderr",
     "output_type": "stream",
     "text": [
      "Train Epoch: 23 Loss:  1.817: 100%|██████████████████████████████████████████████████████████████████████████████████████████████████████████████████████| 9/9 [03:32<00:00, 23.65s/it]\n",
      "100%|████████████████████████████████████████████████████████████████████████████████████████████████████████████████████████████████████████████████████| 5/5 [00:03<00:00,  1.67it/s]\n"
     ]
    },
    {
     "name": "stdout",
     "output_type": "stream",
     "text": [
      "\n",
      "Test set: Average loss:  1.8056, Accuracy:  52.49%, mIoU:  6.37%\n",
      "\n"
     ]
    },
    {
     "name": "stderr",
     "output_type": "stream",
     "text": [
      "Train Epoch: 24 Loss:  1.743: 100%|██████████████████████████████████████████████████████████████████████████████████████████████████████████████████████| 9/9 [03:31<00:00, 23.46s/it]\n",
      "100%|████████████████████████████████████████████████████████████████████████████████████████████████████████████████████████████████████████████████████| 5/5 [00:03<00:00,  1.63it/s]\n"
     ]
    },
    {
     "name": "stdout",
     "output_type": "stream",
     "text": [
      "\n",
      "Test set: Average loss:  1.8278, Accuracy:  52.27%, mIoU:  6.55%\n",
      "\n"
     ]
    },
    {
     "name": "stderr",
     "output_type": "stream",
     "text": [
      "Train Epoch: 25 Loss:  1.626: 100%|██████████████████████████████████████████████████████████████████████████████████████████████████████████████████████| 9/9 [03:32<00:00, 23.62s/it]\n",
      "100%|████████████████████████████████████████████████████████████████████████████████████████████████████████████████████████████████████████████████████| 5/5 [00:02<00:00,  1.68it/s]\n"
     ]
    },
    {
     "name": "stdout",
     "output_type": "stream",
     "text": [
      "\n",
      "Test set: Average loss:  1.8082, Accuracy:  52.77%, mIoU:  6.34%\n",
      "\n"
     ]
    },
    {
     "name": "stderr",
     "output_type": "stream",
     "text": [
      "Train Epoch: 26 Loss:  1.552: 100%|██████████████████████████████████████████████████████████████████████████████████████████████████████████████████████| 9/9 [03:31<00:00, 23.52s/it]\n",
      "100%|████████████████████████████████████████████████████████████████████████████████████████████████████████████████████████████████████████████████████| 5/5 [00:02<00:00,  1.67it/s]\n"
     ]
    },
    {
     "name": "stdout",
     "output_type": "stream",
     "text": [
      "\n",
      "Test set: Average loss:  1.8232, Accuracy:  50.68%, mIoU:  6.11%\n",
      "\n"
     ]
    },
    {
     "name": "stderr",
     "output_type": "stream",
     "text": [
      "Train Epoch: 27 Loss:  1.443: 100%|██████████████████████████████████████████████████████████████████████████████████████████████████████████████████████| 9/9 [03:31<00:00, 23.51s/it]\n",
      "100%|████████████████████████████████████████████████████████████████████████████████████████████████████████████████████████████████████████████████████| 5/5 [00:03<00:00,  1.66it/s]\n"
     ]
    },
    {
     "name": "stdout",
     "output_type": "stream",
     "text": [
      "\n",
      "Test set: Average loss:  1.8718, Accuracy:  50.06%, mIoU:  5.93%\n",
      "\n"
     ]
    },
    {
     "name": "stderr",
     "output_type": "stream",
     "text": [
      "Train Epoch: 28 Loss:  1.645: 100%|██████████████████████████████████████████████████████████████████████████████████████████████████████████████████████| 9/9 [03:32<00:00, 23.60s/it]\n",
      "100%|████████████████████████████████████████████████████████████████████████████████████████████████████████████████████████████████████████████████████| 5/5 [00:03<00:00,  1.63it/s]\n"
     ]
    },
    {
     "name": "stdout",
     "output_type": "stream",
     "text": [
      "\n",
      "Test set: Average loss:  2.0635, Accuracy:  46.95%, mIoU:  5.62%\n",
      "\n"
     ]
    },
    {
     "name": "stderr",
     "output_type": "stream",
     "text": [
      "Train Epoch: 29 Loss:  1.856: 100%|██████████████████████████████████████████████████████████████████████████████████████████████████████████████████████| 9/9 [03:32<00:00, 23.57s/it]\n",
      "100%|████████████████████████████████████████████████████████████████████████████████████████████████████████████████████████████████████████████████████| 5/5 [00:03<00:00,  1.62it/s]\n"
     ]
    },
    {
     "name": "stdout",
     "output_type": "stream",
     "text": [
      "\n",
      "Test set: Average loss:  2.1704, Accuracy:  46.19%, mIoU:  6.20%\n",
      "\n"
     ]
    },
    {
     "name": "stderr",
     "output_type": "stream",
     "text": [
      "Train Epoch: 30 Loss:  1.877: 100%|██████████████████████████████████████████████████████████████████████████████████████████████████████████████████████| 9/9 [03:31<00:00, 23.46s/it]\n",
      "100%|████████████████████████████████████████████████████████████████████████████████████████████████████████████████████████████████████████████████████| 5/5 [00:03<00:00,  1.59it/s]\n"
     ]
    },
    {
     "name": "stdout",
     "output_type": "stream",
     "text": [
      "\n",
      "Test set: Average loss:  1.9551, Accuracy:  49.62%, mIoU:  6.48%\n",
      "\n"
     ]
    },
    {
     "name": "stderr",
     "output_type": "stream",
     "text": [
      "Train Epoch: 31 Loss:  1.735: 100%|██████████████████████████████████████████████████████████████████████████████████████████████████████████████████████| 9/9 [03:31<00:00, 23.52s/it]\n",
      "100%|████████████████████████████████████████████████████████████████████████████████████████████████████████████████████████████████████████████████████| 5/5 [00:03<00:00,  1.64it/s]\n"
     ]
    },
    {
     "name": "stdout",
     "output_type": "stream",
     "text": [
      "\n",
      "Test set: Average loss:  1.9704, Accuracy:  51.09%, mIoU:  6.99%\n",
      "\n"
     ]
    },
    {
     "name": "stderr",
     "output_type": "stream",
     "text": [
      "Train Epoch: 32 Loss:  1.561: 100%|██████████████████████████████████████████████████████████████████████████████████████████████████████████████████████| 9/9 [03:33<00:00, 23.68s/it]\n",
      "100%|████████████████████████████████████████████████████████████████████████████████████████████████████████████████████████████████████████████████████| 5/5 [00:03<00:00,  1.60it/s]\n"
     ]
    },
    {
     "name": "stdout",
     "output_type": "stream",
     "text": [
      "\n",
      "Test set: Average loss:  2.1254, Accuracy:  43.07%, mIoU:  5.04%\n",
      "\n"
     ]
    },
    {
     "name": "stderr",
     "output_type": "stream",
     "text": [
      "Train Epoch: 33 Loss:  1.433: 100%|██████████████████████████████████████████████████████████████████████████████████████████████████████████████████████| 9/9 [03:32<00:00, 23.57s/it]\n",
      "100%|████████████████████████████████████████████████████████████████████████████████████████████████████████████████████████████████████████████████████| 5/5 [00:02<00:00,  1.67it/s]\n"
     ]
    },
    {
     "name": "stdout",
     "output_type": "stream",
     "text": [
      "\n",
      "Test set: Average loss:  2.1511, Accuracy:  42.34%, mIoU:  4.46%\n",
      "\n"
     ]
    },
    {
     "name": "stderr",
     "output_type": "stream",
     "text": [
      "Train Epoch: 34 Loss:  1.481: 100%|██████████████████████████████████████████████████████████████████████████████████████████████████████████████████████| 9/9 [03:31<00:00, 23.49s/it]\n",
      "100%|████████████████████████████████████████████████████████████████████████████████████████████████████████████████████████████████████████████████████| 5/5 [00:03<00:00,  1.58it/s]\n"
     ]
    },
    {
     "name": "stdout",
     "output_type": "stream",
     "text": [
      "\n",
      "Test set: Average loss:  1.9651, Accuracy:  48.13%, mIoU:  5.45%\n",
      "\n"
     ]
    },
    {
     "name": "stderr",
     "output_type": "stream",
     "text": [
      "Train Epoch: 35 Loss:  1.650: 100%|██████████████████████████████████████████████████████████████████████████████████████████████████████████████████████| 9/9 [03:31<00:00, 23.54s/it]\n",
      "100%|████████████████████████████████████████████████████████████████████████████████████████████████████████████████████████████████████████████████████| 5/5 [00:03<00:00,  1.63it/s]\n"
     ]
    },
    {
     "name": "stdout",
     "output_type": "stream",
     "text": [
      "\n",
      "Test set: Average loss:  2.0635, Accuracy:  48.01%, mIoU:  5.56%\n",
      "\n"
     ]
    },
    {
     "name": "stderr",
     "output_type": "stream",
     "text": [
      "Train Epoch: 36 Loss:  1.727: 100%|██████████████████████████████████████████████████████████████████████████████████████████████████████████████████████| 9/9 [03:32<00:00, 23.59s/it]\n",
      "100%|████████████████████████████████████████████████████████████████████████████████████████████████████████████████████████████████████████████████████| 5/5 [00:03<00:00,  1.66it/s]\n"
     ]
    },
    {
     "name": "stdout",
     "output_type": "stream",
     "text": [
      "\n",
      "Test set: Average loss:  1.9015, Accuracy:  51.35%, mIoU:  6.65%\n",
      "\n"
     ]
    },
    {
     "name": "stderr",
     "output_type": "stream",
     "text": [
      "Train Epoch: 37 Loss:  1.500: 100%|██████████████████████████████████████████████████████████████████████████████████████████████████████████████████████| 9/9 [03:32<00:00, 23.56s/it]\n",
      "100%|████████████████████████████████████████████████████████████████████████████████████████████████████████████████████████████████████████████████████| 5/5 [00:03<00:00,  1.65it/s]\n"
     ]
    },
    {
     "name": "stdout",
     "output_type": "stream",
     "text": [
      "\n",
      "Test set: Average loss:  1.8662, Accuracy:  52.80%, mIoU:  6.27%\n",
      "\n"
     ]
    },
    {
     "name": "stderr",
     "output_type": "stream",
     "text": [
      "Train Epoch: 38 Loss:  1.822: 100%|██████████████████████████████████████████████████████████████████████████████████████████████████████████████████████| 9/9 [03:31<00:00, 23.48s/it]\n",
      "100%|████████████████████████████████████████████████████████████████████████████████████████████████████████████████████████████████████████████████████| 5/5 [00:03<00:00,  1.64it/s]\n"
     ]
    },
    {
     "name": "stdout",
     "output_type": "stream",
     "text": [
      "\n",
      "Test set: Average loss:  1.8850, Accuracy:  50.80%, mIoU:  6.27%\n",
      "\n"
     ]
    },
    {
     "name": "stderr",
     "output_type": "stream",
     "text": [
      "Train Epoch: 39 Loss:  1.314: 100%|██████████████████████████████████████████████████████████████████████████████████████████████████████████████████████| 9/9 [03:31<00:00, 23.52s/it]\n",
      "100%|████████████████████████████████████████████████████████████████████████████████████████████████████████████████████████████████████████████████████| 5/5 [00:03<00:00,  1.59it/s]\n"
     ]
    },
    {
     "name": "stdout",
     "output_type": "stream",
     "text": [
      "\n",
      "Test set: Average loss:  2.0609, Accuracy:  45.87%, mIoU:  5.39%\n",
      "\n"
     ]
    },
    {
     "name": "stderr",
     "output_type": "stream",
     "text": [
      "Train Epoch: 40 Loss:  1.626: 100%|██████████████████████████████████████████████████████████████████████████████████████████████████████████████████████| 9/9 [03:31<00:00, 23.52s/it]\n",
      "100%|████████████████████████████████████████████████████████████████████████████████████████████████████████████████████████████████████████████████████| 5/5 [00:03<00:00,  1.66it/s]\n"
     ]
    },
    {
     "name": "stdout",
     "output_type": "stream",
     "text": [
      "\n",
      "Test set: Average loss:  2.0563, Accuracy:  49.81%, mIoU:  5.97%\n",
      "\n"
     ]
    },
    {
     "name": "stderr",
     "output_type": "stream",
     "text": [
      "Train Epoch: 41 Loss:  1.469: 100%|██████████████████████████████████████████████████████████████████████████████████████████████████████████████████████| 9/9 [03:32<00:00, 23.57s/it]\n",
      "100%|████████████████████████████████████████████████████████████████████████████████████████████████████████████████████████████████████████████████████| 5/5 [00:03<00:00,  1.65it/s]\n"
     ]
    },
    {
     "name": "stdout",
     "output_type": "stream",
     "text": [
      "\n",
      "Test set: Average loss:  2.0148, Accuracy:  51.91%, mIoU:  6.53%\n",
      "\n"
     ]
    },
    {
     "name": "stderr",
     "output_type": "stream",
     "text": [
      "Train Epoch: 42 Loss:  1.654: 100%|██████████████████████████████████████████████████████████████████████████████████████████████████████████████████████| 9/9 [03:31<00:00, 23.51s/it]\n",
      "100%|████████████████████████████████████████████████████████████████████████████████████████████████████████████████████████████████████████████████████| 5/5 [00:03<00:00,  1.64it/s]\n"
     ]
    },
    {
     "name": "stdout",
     "output_type": "stream",
     "text": [
      "\n",
      "Test set: Average loss:  1.8148, Accuracy:  54.88%, mIoU:  6.90%\n",
      "\n"
     ]
    },
    {
     "name": "stderr",
     "output_type": "stream",
     "text": [
      "Train Epoch: 43 Loss:  1.894: 100%|██████████████████████████████████████████████████████████████████████████████████████████████████████████████████████| 9/9 [03:31<00:00, 23.50s/it]\n",
      "100%|████████████████████████████████████████████████████████████████████████████████████████████████████████████████████████████████████████████████████| 5/5 [00:03<00:00,  1.65it/s]\n"
     ]
    },
    {
     "name": "stdout",
     "output_type": "stream",
     "text": [
      "\n",
      "Test set: Average loss:  1.8388, Accuracy:  55.03%, mIoU:  6.87%\n",
      "\n"
     ]
    },
    {
     "name": "stderr",
     "output_type": "stream",
     "text": [
      "Train Epoch: 44 Loss:  1.711: 100%|██████████████████████████████████████████████████████████████████████████████████████████████████████████████████████| 9/9 [03:31<00:00, 23.46s/it]\n",
      "100%|████████████████████████████████████████████████████████████████████████████████████████████████████████████████████████████████████████████████████| 5/5 [00:03<00:00,  1.64it/s]\n"
     ]
    },
    {
     "name": "stdout",
     "output_type": "stream",
     "text": [
      "\n",
      "Test set: Average loss:  1.8317, Accuracy:  53.60%, mIoU:  6.82%\n",
      "\n"
     ]
    },
    {
     "name": "stderr",
     "output_type": "stream",
     "text": [
      "Train Epoch: 45 Loss:  1.767: 100%|██████████████████████████████████████████████████████████████████████████████████████████████████████████████████████| 9/9 [03:31<00:00, 23.44s/it]\n",
      "100%|████████████████████████████████████████████████████████████████████████████████████████████████████████████████████████████████████████████████████| 5/5 [00:03<00:00,  1.66it/s]\n"
     ]
    },
    {
     "name": "stdout",
     "output_type": "stream",
     "text": [
      "\n",
      "Test set: Average loss:  1.9040, Accuracy:  52.68%, mIoU:  6.19%\n",
      "\n"
     ]
    },
    {
     "name": "stderr",
     "output_type": "stream",
     "text": [
      "Train Epoch: 46 Loss:  1.846: 100%|██████████████████████████████████████████████████████████████████████████████████████████████████████████████████████| 9/9 [03:30<00:00, 23.41s/it]\n",
      "100%|████████████████████████████████████████████████████████████████████████████████████████████████████████████████████████████████████████████████████| 5/5 [00:02<00:00,  1.68it/s]\n"
     ]
    },
    {
     "name": "stdout",
     "output_type": "stream",
     "text": [
      "\n",
      "Test set: Average loss:  1.8738, Accuracy:  52.15%, mIoU:  6.09%\n",
      "\n"
     ]
    },
    {
     "name": "stderr",
     "output_type": "stream",
     "text": [
      "Train Epoch: 47 Loss:  1.510: 100%|██████████████████████████████████████████████████████████████████████████████████████████████████████████████████████| 9/9 [03:31<00:00, 23.54s/it]\n",
      "100%|████████████████████████████████████████████████████████████████████████████████████████████████████████████████████████████████████████████████████| 5/5 [00:03<00:00,  1.64it/s]\n"
     ]
    },
    {
     "name": "stdout",
     "output_type": "stream",
     "text": [
      "\n",
      "Test set: Average loss:  1.8222, Accuracy:  53.12%, mIoU:  6.44%\n",
      "\n"
     ]
    },
    {
     "name": "stderr",
     "output_type": "stream",
     "text": [
      "Train Epoch: 48 Loss:  1.832: 100%|██████████████████████████████████████████████████████████████████████████████████████████████████████████████████████| 9/9 [03:30<00:00, 23.37s/it]\n",
      "100%|████████████████████████████████████████████████████████████████████████████████████████████████████████████████████████████████████████████████████| 5/5 [00:03<00:00,  1.66it/s]\n"
     ]
    },
    {
     "name": "stdout",
     "output_type": "stream",
     "text": [
      "\n",
      "Test set: Average loss:  1.8332, Accuracy:  53.36%, mIoU:  5.89%\n",
      "\n"
     ]
    },
    {
     "name": "stderr",
     "output_type": "stream",
     "text": [
      "Train Epoch: 49 Loss:  1.669: 100%|██████████████████████████████████████████████████████████████████████████████████████████████████████████████████████| 9/9 [03:31<00:00, 23.55s/it]\n",
      "100%|████████████████████████████████████████████████████████████████████████████████████████████████████████████████████████████████████████████████████| 5/5 [00:03<00:00,  1.66it/s]\n"
     ]
    },
    {
     "name": "stdout",
     "output_type": "stream",
     "text": [
      "\n",
      "Test set: Average loss:  2.0276, Accuracy:  52.01%, mIoU:  6.62%\n",
      "\n"
     ]
    },
    {
     "name": "stderr",
     "output_type": "stream",
     "text": [
      "Train Epoch: 50 Loss:  1.664: 100%|██████████████████████████████████████████████████████████████████████████████████████████████████████████████████████| 9/9 [03:32<00:00, 23.63s/it]\n",
      "100%|████████████████████████████████████████████████████████████████████████████████████████████████████████████████████████████████████████████████████| 5/5 [00:03<00:00,  1.66it/s]\n"
     ]
    },
    {
     "name": "stdout",
     "output_type": "stream",
     "text": [
      "\n",
      "Saved visualization data for 50 point clouds to ./results/visual_predictions.pt\n",
      "\n",
      "Test set: Average loss:  2.5116, Accuracy:  48.17%, mIoU:  6.77%\n",
      "\n",
      "Final mIoU:  6.77%\n"
     ]
    }
   ],
   "source": [
    "##### MAIN BLOCK #####\n",
    "\n",
    "# load YAML\n",
    "cfg_dict = yaml.safe_load(CONFIG_YAML)\n",
    "cfg = OmegaConf.create(cfg_dict)\n",
    "\n",
    "# Print config\n",
    "print(OmegaConf.to_yaml(cfg))\n",
    "\n",
    "# Initialize seed\n",
    "set_seed(cfg.seed)\n",
    "\n",
    "device = torch.device(cfg.device)\n",
    "\n",
    "train_dataset = ScanNetDataset(cfg.paths.data_dir, split=\"train\",)\n",
    "train_dataset = Subset(train_dataset, range(100))\n",
    "test_dataset = ScanNetDataset(cfg.paths.data_dir, split=\"val\",)\n",
    "test_dataset = Subset(test_dataset, range(50))\n",
    "\n",
    "train_loader = DataLoader(\n",
    "    train_dataset,\n",
    "    batch_size=cfg.train.batch_size,\n",
    "    num_workers=cfg.train.num_workers,\n",
    "    shuffle=True,\n",
    "    collate_fn=collate_fn,\n",
    ")\n",
    "test_loader = DataLoader(\n",
    "    test_dataset,\n",
    "    batch_size=cfg.test.batch_size,\n",
    "    num_workers=cfg.test.num_workers,\n",
    "    shuffle=False,\n",
    "    collate_fn=collate_fn,\n",
    ")\n",
    "\n",
    "# Model initialization\n",
    "model = MinkUNet18(\n",
    "    in_channels=cfg.model.in_channels,\n",
    "    out_channels=cfg.model.out_channels,\n",
    ").to(device)\n",
    "\n",
    "if hasattr(cfg.model, \"in_type\") and cfg.model.in_type == \"voxel\":\n",
    "    model = PointToSparseWrapper(\n",
    "        inner_module=model,\n",
    "        voxel_size=cfg.data.voxel_size,\n",
    "        concat_unpooled_pc=False,\n",
    "    )\n",
    "\n",
    "optimizer = optim.AdamW(model.parameters(), lr=cfg.train.lr)\n",
    "scheduler = StepLR(optimizer, step_size=cfg.train.step_size, gamma=cfg.train.gamma)\n",
    "\n",
    "# Test before training\n",
    "metrics = test(model, test_loader, cfg, num_test_batches=5)\n",
    "\n",
    "for epoch in range(1, cfg.train.epochs + 1):\n",
    "    train(\n",
    "        model,\n",
    "        train_loader,\n",
    "        optimizer,\n",
    "        epoch,\n",
    "        cfg,\n",
    "    )\n",
    "    should_save_visuals = (epoch == cfg.train.epochs)\n",
    "    metrics = test(model, test_loader, cfg, save_visuals=should_save_visuals)\n",
    "    scheduler.step()\n",
    "\n",
    "print(f\"Final mIoU: {metrics['miou']: .2f}%\")"
   ]
  }
 ],
 "metadata": {
  "kernelspec": {
   "display_name": "Python 3 (ipykernel)",
   "language": "python",
   "name": "python3"
  },
  "language_info": {
   "codemirror_mode": {
    "name": "ipython",
    "version": 3
   },
   "file_extension": ".py",
   "mimetype": "text/x-python",
   "name": "python",
   "nbconvert_exporter": "python",
   "pygments_lexer": "ipython3",
   "version": "3.11.13"
  }
 },
 "nbformat": 4,
 "nbformat_minor": 5
}
