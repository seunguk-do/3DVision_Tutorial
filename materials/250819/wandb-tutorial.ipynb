{
 "cells": [
  {
   "cell_type": "markdown",
   "id": "3001e549",
   "metadata": {
    "jupyter": {
     "source_hidden": true
    }
   },
   "source": [
    "# 🚀 Wandb (Weights & Biases) 튜토리얼\n",
    "\n",
    "**Weights & Biases (Wandb)**는 머신러닝 실험을 추적하고 관리하는 플랫폼입니다.\n",
    "오늘 실습에서는 학습하는 네트워크/모델의 학습 경향을 Wandb를 이용하여 추적함으로써 개선된 metric를 얻기 위한 튜닝을 해볼 예정입니다.\n",
    "\n",
    "### 실습 시작 전\n",
    "1. Wandb 무료 계정 생성\n",
    "2. [https://wandb.ai/authorize](https://wandb.ai/authorize) API 키 복사\n"
   ]
  },
  {
   "cell_type": "code",
   "execution_count": null,
   "id": "f2bfbd20",
   "metadata": {},
   "outputs": [],
   "source": [
    "import os\n",
    "import wandb\n",
    "\n",
    "print(\"Welcome to the Wandb Tutorial!\")\n",
    "print(\"Please get your API key from: https://wandb.ai/authorize\")\n",
    "print()\n",
    "\n",
    "try:\n",
    "    import getpass\n",
    "    api_key = getpass.getpass(\"Enter your Wandb API key: \")\n",
    "except Exception:\n",
    "    print(\"Note: Your API key will be visible when typing.\")\n",
    "    api_key = input(\"Enter your Wandb API key: \")\n",
    "\n",
    "# Set the API key as an environment variable\n",
    "os.environ[\"WANDB_API_KEY\"] = api_key\n",
    "\n",
    "# Login to wandb\n",
    "try:\n",
    "    wandb.login(key=api_key, relogin=True)\n",
    "    print(\"✅ Successfully logged in to Wandb!\")\n",
    "    print(f\"✅ You are logged in as: {wandb.api.default_entity}\")\n",
    "except Exception as e:\n",
    "    print(f\"❌ Login failed: {e}\")\n",
    "    print(\"Please check your API key and try again.\")"
   ]
  },
  {
   "cell_type": "markdown",
   "id": "5c3393ca",
   "metadata": {},
   "source": [
    "# Wandb 함수 이해하기\n",
    "\n",
    "이 튜토리얼에서는 세 가지 핵심 Wandb 함수를 살펴보겠습니다. 각 함수가 무엇을 하는지 알아봅시다:\n",
    "\n",
    "## 🚀 `wandb.init()` - 새로운 실행 초기화\n",
    "\n",
    "이 함수는 새로운 실험 추적 세션을 시작합니다.\n",
    "\n",
    "**주요 매개변수:**\n",
    "- `project`: 프로젝트 이름 (관련 실험들을 그룹화)\n",
    "- `config`: 추적할 하이퍼파라미터 딕셔너리\n",
    "- `name`: 이 실행에 대한 선택적 사용자 정의 이름\n",
    "- `tags`: 실행을 정리하기 위한 태그 리스트\n",
    "- `notes`: 실험에 대한 설명\n",
    "\n",
    "## 📊 `wandb.log()` - 메트릭과 데이터 로깅\n",
    "\n",
    "이 함수는 각 단계에서 메트릭, 이미지 또는 기타 데이터를 기록합니다.\n",
    "\n",
    "**주요 매개변수:**\n",
    "- 로깅할 메트릭의 딕셔너리 (예: `{\"loss\": 0.5, \"accuracy\": 0.9}`)\n",
    "- `step`: 선택적 단계 번호 (제공되지 않으면 자동 증가)\n",
    "- `commit`: 로그를 즉시 저장할지 여부 (기본값: True)\n",
    "\n",
    "**로깅할 수 있는 것들:**\n",
    "- 스칼라 값 (loss, accuracy 등)\n",
    "- 이미지, 플롯, 히스토그램\n",
    "- 오디오, 비디오, 테이블\n",
    "- 사용자 정의 차트\n",
    "\n",
    "## ✅ `wandb.finish()` - 실행 종료\n",
    "\n",
    "이 함수는 현재 실행을 적절히 종료하고 최종 데이터를 서버에 업로드합니다."
   ]
  },
  {
   "cell_type": "code",
   "execution_count": null,
   "id": "ab0a861b",
   "metadata": {},
   "outputs": [],
   "source": [
    "# Example: Simple Machine Learning Training Loop with Wandb\n",
    "\n",
    "import time, random, wandb\n",
    "\n",
    "# Initialize a new wandb run\n",
    "wandb.init(\n",
    "    project=\"intro-wandb\",           # Project name (groups related experiments)\n",
    "    config={                         # Hyperparameters to track\n",
    "        \"lr\": 1e-3,                 # Learning rate\n",
    "        \"batch_size\": 64            # Batch size\n",
    "    }\n",
    ")\n",
    "\n",
    "# Simulate a training loop\n",
    "print(\"Starting training simulation...\")\n",
    "for step in range(100):\n",
    "    # Simulate decreasing loss with some noise\n",
    "    loss = 1.0/(step+1) + random.random()*0.03\n",
    "    \n",
    "    # Log metrics at each step\n",
    "    wandb.log({\n",
    "        \"loss\": loss,               # Training loss\n",
    "        \"step\": step               # Training step\n",
    "    })\n",
    "    \n",
    "    # Small delay to simulate training time\n",
    "    time.sleep(0.05)\n",
    "    \n",
    "    # Print progress every 20 steps\n",
    "    if step % 20 == 0:\n",
    "        print(f\"Step {step}: Loss = {loss:.4f}\")\n",
    "\n",
    "print(\"Training completed!\")\n",
    "\n",
    "# Properly close the wandb run\n",
    "wandb.finish()"
   ]
  },
  {
   "cell_type": "code",
   "execution_count": null,
   "id": "d0fbcc6a",
   "metadata": {},
   "outputs": [],
   "source": []
  }
 ],
 "metadata": {
  "kernelspec": {
   "display_name": "Python 3 (ipykernel)",
   "language": "python",
   "name": "python3"
  },
  "language_info": {
   "codemirror_mode": {
    "name": "ipython",
    "version": 3
   },
   "file_extension": ".py",
   "mimetype": "text/x-python",
   "name": "python",
   "nbconvert_exporter": "python",
   "pygments_lexer": "ipython3",
   "version": "3.11.10"
  }
 },
 "nbformat": 4,
 "nbformat_minor": 5
}
