{
 "cells": [
  {
   "cell_type": "markdown",
   "id": "8d1eae5f-080b-4c0d-b525-c51da57239b5",
   "metadata": {},
   "source": [
    "### Exercise:\n",
    "- Scene을 가장 정확하고 자연스럽게 복원할 수 있는 최적의 세팅을 세 가지 관점(Model 종류, Model 크기, Optimization)의 관점에서 찾고, 이를 Report(양식자유)로 작성하여 드라이브에 제출해주세요.\n",
    "    - Model 종류:\n",
    "        - NeRFacto\n",
    "        - SplatFacto\n",
    "        - Instant-NGP\n",
    "    - Model 크기:\n",
    "        - hidden_dim of MLP\n",
    "        - num_levels of Hash Map\n",
    "    - Optimization\n",
    "        - learning_rate\n",
    "- 본 튜토리얼에서 3가지의 다른 모델(NeRFacto, SplatFacto, Instant-NGP)을 차례대로 돌려보시게 됩니다. 각각의 모델에서 최적의 세팅을 찾아서 보고서에 작성해주세요.\n",
    "- 가장 마지막에 3가지 모델의 성능의 비교해서 정리해주세요.\n",
    "- 학습 과정 및 평가 결과를 log하기 위해서 wandb를 사용합니다(https://wandb.ai). Wandb 회원 가입 및 API_KEY 발급을 진행해주세요"
   ]
  },
  {
   "cell_type": "code",
   "execution_count": null,
   "id": "be656efe-baea-4ddf-b6fb-4df5d3e11dc6",
   "metadata": {},
   "outputs": [],
   "source": [
    "import os\n",
    "from pathlib import Path\n",
    "\n",
    "NERFSTUDIO_PORT = os.environ[\"NERFSTUDIO_PORT\"]"
   ]
  },
  {
   "cell_type": "code",
   "execution_count": null,
   "id": "14a39ce1-c97a-4f2b-8a3b-a538a2e3d131",
   "metadata": {},
   "outputs": [],
   "source": [
    "try:\n",
    "    import getpass\n",
    "    api_key = getpass.getpass(\"Enter your Wandb API key: \")\n",
    "except Exception:\n",
    "    print(\"Note: Your API key will be visible when typing.\")\n",
    "    api_key = input(\"Enter your Wandb API key: \")\n",
    "\n",
    "# Set the API key as an environment variable\n",
    "os.environ[\"WANDB_API_KEY\"] = api_key\n",
    "\n",
    "# Login to wandb\n",
    "try:\n",
    "    wandb.login(key=api_key, relogin=True)\n",
    "    print(\"✅ Successfully logged in to Wandb!\")\n",
    "    print(f\"✅ You are logged in as: {wandb.api.default_entity}\")\n",
    "except Exception as e:\n",
    "    print(f\"❌ Login failed: {e}\")\n",
    "    print(\"Please check your API key and try again.\")"
   ]
  },
  {
   "cell_type": "code",
   "execution_count": null,
   "id": "089d53bb-5d2c-451c-ab3d-226f6f1b0258",
   "metadata": {},
   "outputs": [],
   "source": [
    "scene_names = []\n",
    "\n",
    "for p in sorted(Path(\"/data/nerfstudio\").glob(\"*\")):\n",
    "    if p.is_dir():\n",
    "        scene_names.append(p.name)\n",
    "\n",
    "print(scene_names)"
   ]
  },
  {
   "cell_type": "code",
   "execution_count": null,
   "id": "00e03575-5e61-4ff5-9942-b4ee18308354",
   "metadata": {},
   "outputs": [],
   "source": [
    "import getpass\n",
    "\n",
    "scene_names = []\n",
    "for p in sorted(Path(\"/data/nerfstudio\").glob(\"*\")):\n",
    "    if p.is_dir():\n",
    "        scene_names.append(p.name)\n",
    "\n",
    "print(\"Existing scenes:\")\n",
    "print(scene_names)\n",
    "print(\"\\n\")\n",
    "        \n",
    "SCENE = getpass.getpass(\"Select a scene: \")\n",
    "\n",
    "while SCENE not in scene_names:\n",
    "    print(\"Existing scenes:\")\n",
    "    print(scene_names)\n",
    "    SCENE = input(\"Select a scene among the existing scenes: \")"
   ]
  },
  {
   "cell_type": "markdown",
   "id": "68dc64d6-4c89-4c01-8ff0-cbb00f6ef042",
   "metadata": {},
   "source": [
    "## 1. Nerfacto"
   ]
  },
  {
   "cell_type": "code",
   "execution_count": null,
   "id": "749536d8-5090-4202-944a-87be312d5959",
   "metadata": {
    "scrolled": true
   },
   "outputs": [],
   "source": [
    "!ns-train \\\n",
    "    nerfacto \\\n",
    "    --output-dir \"results/nerfstudio/nerfacto\" \\\n",
    "    --experiment-name \"nerfacto_base\" \\\n",
    "    --vis viewer+wandb  \\\n",
    "    --viewer.websocket-port \"{NERFSTUDIO_PORT}\" \\\n",
    "    nerfstudio-data \\\n",
    "    --data /data/nerfstudio/\"{SCENE}\" \\\n",
    "    --downscale-factor 4 "
   ]
  },
  {
   "cell_type": "markdown",
   "id": "1e4a14ef-d334-47d0-9eb2-6b2cad1e7713",
   "metadata": {},
   "source": [
    "### Customize the Nerfacto model\n",
    "- Refer to `!ns-train nerfacto --help` and [nerfacto.py](https://github.com/nerfstudio-project/nerfstudio/blob/main/nerfstudio/models/nerfacto.py)\n",
    "- Recommended options to ablate:\n",
    "    - model\n",
    "        - pipeline.model.hidden-dim\n",
    "        - pipeline.model.hidden-dim-color\n",
    "        - pipeline.model.hidden-dim-transient\n",
    "        - pipeline.model.num-levels\n",
    "        - pipeline.model.base-res\n",
    "        - pipeline.model.max-res\n",
    "        - pipeline.model.log2-hashmap-size\n",
    "        - pipeline.model.feature-per-level\n",
    "    - optimizer\n",
    "        - optimizers.fields.optimizer.lr\n",
    "        - optimizers.fields.optimizer.eps\n",
    "        - optimizers.fields.optimizer.max-norm\n",
    "        - optimizers.fields.optimizer.weight-decay"
   ]
  },
  {
   "cell_type": "code",
   "execution_count": null,
   "id": "2b56ea96-fa92-4c9f-87a8-c64ed0d23991",
   "metadata": {},
   "outputs": [],
   "source": [
    "!ns-train \\\n",
    "    nerfacto \\\n",
    "    --pipeline.model.hidden-dim 128 \\\n",
    "    --pipeline.model.hidden-dim-color 128 \\\n",
    "    --pipeline.model.hidden-dim-transient 128 \\\n",
    "    --output-dir \"results/nerfstudio/nerfacto\" \\\n",
    "    --experiment-name \"nerfacto_exp_00\" \\\n",
    "    --vis viewer+wandb  \\\n",
    "    --viewer.websocket-port \"{NERFSTUDIO_PORT}\" \\\n",
    "    nerfstudio-data \\\n",
    "    --data /data/nerfstudio/\"{SCENE}\" \\\n",
    "    --downscale-factor 4"
   ]
  },
  {
   "cell_type": "markdown",
   "id": "215f1a8e-ec54-4c0f-bafb-05efe3b55f9b",
   "metadata": {},
   "source": [
    "## 2.Instant-NGP"
   ]
  },
  {
   "cell_type": "code",
   "execution_count": null,
   "id": "ccec4a4e-3ed9-4a04-89c0-22798b98aba0",
   "metadata": {},
   "outputs": [],
   "source": [
    "!ns-train \\\n",
    "    instant-ngp \\\n",
    "    --output-dir \"results/nerfstudio/instant-ngp\" \\\n",
    "    --experiment-name \"instant-ngp\" \\\n",
    "    --vis viewer+wandb  \\\n",
    "    --viewer.websocket-port \"{NERFSTUDIO_PORT}\" \\\n",
    "    nerfstudio-data \\\n",
    "    --data /data/nerfstudio/\"{SCENE}\" \\\n",
    "    --downscale-factor 4"
   ]
  },
  {
   "cell_type": "markdown",
   "id": "2484dcc9-a4a6-405d-923f-a37b7f1e8359",
   "metadata": {},
   "source": [
    "### Customize the Instant-NGP model\n",
    "- Refer to `!ns-train instant-ngp --help` and [instant_ngp.py](https://github.com/nerfstudio-project/nerfstudio/blob/main/nerfstudio/models/instant_ngp.py)\n",
    "- Recommended options to ablate:\n",
    "    - model\n",
    "        - pipeline.model.grid-resolution\n",
    "        - pipeline.model.hidden-dim-color\n",
    "        - pipeline.model.hidden-dim-transient\n",
    "        - pipeline.model.num-levels\n",
    "        - pipeline.model.base-res\n",
    "        - pipeline.model.max-res\n",
    "        - pipeline.model.log2-hashmap-size\n",
    "        - pipeline.model.feature-per-level\n",
    "    - optimizer\n",
    "        - optimizers.fields.optimizer.lr\n",
    "        - optimizers.fields.optimizer.eps\n",
    "        - optimizers.fields.optimizer.max-norm\n",
    "        - optimizers.fields.optimizer.weight-decay"
   ]
  },
  {
   "cell_type": "markdown",
   "id": "5d32147d-7576-40e0-8d3f-4b7b78e79bc3",
   "metadata": {},
   "source": [
    "## 3. Splatfacto"
   ]
  },
  {
   "cell_type": "code",
   "execution_count": null,
   "id": "1c2374bb-3b2c-49f4-8dc3-9423297ae666",
   "metadata": {
    "scrolled": true
   },
   "outputs": [],
   "source": [
    "!echo \"y\" | ns-train \\\n",
    "    splatfacto \\\n",
    "    --output-dir \"results/nerfstudio/splatfacto\" \\\n",
    "    --experiment-name \"splatfacto\" \\\n",
    "    --vis viewer+wandb  \\\n",
    "    --viewer.websocket-port \"{NERFSTUDIO_PORT}\" \\\n",
    "    nerfstudio-data \\\n",
    "    --data /data/nerfstudio/\"{SCENE}\" \\\n",
    "    --downscale-factor 4"
   ]
  },
  {
   "cell_type": "markdown",
   "id": "fc068729-e0ae-4daf-8866-a3cc25ef6171",
   "metadata": {},
   "source": [
    "### Customize the Splatfacto model\n",
    "- Refer to `!ns-train splatfacto --help` and [splatfacto.py](https://github.com/nerfstudio-project/nerfstudio/blob/50e0e3c70c775e89333256213363badbf074f29d/nerfstudio/models/splatfacto.py#L87)\n",
    "- Recommended options to ablate:\n",
    "    - model\n",
    "        - pipeline.model.warmup-length\n",
    "        - pipeline.model.refine-every\n",
    "        - pipeline.model.cull-alpha-thresh\n",
    "        - pipeline.model.cull-scale-thresh\n",
    "        - pipeline.model.reset-alpha-every\n",
    "        - pipeline.model.densify-grad-thresh\n",
    "        - pipeline.model.densify-size-thresh\n",
    "        - pipeline.model.n-split-samples\n",
    "        - pipeline.model.ssim-lambda\n",
    " \n",
    "    - gs means optimizer\n",
    "        - optimizers.means.optimizer.lr\n",
    "        - optimizers.means.optimizer.eps\n",
    "        - optimizers.means.optimizer.max-norm\n",
    "        - optimizers.means.optimizer.weight-decay"
   ]
  },
  {
   "cell_type": "markdown",
   "id": "ec2fc047-2446-4bc1-837b-7682dea7480c",
   "metadata": {},
   "source": [
    "## 4. Discover more scenes\n",
    "https://docs.nerf.studio/quickstart/existing_dataset.html"
   ]
  }
 ],
 "metadata": {
  "kernelspec": {
   "display_name": "Python 3 (ipykernel)",
   "language": "python",
   "name": "python3"
  },
  "language_info": {
   "codemirror_mode": {
    "name": "ipython",
    "version": 3
   },
   "file_extension": ".py",
   "mimetype": "text/x-python",
   "name": "python",
   "nbconvert_exporter": "python",
   "pygments_lexer": "ipython3",
   "version": "3.11.10"
  }
 },
 "nbformat": 4,
 "nbformat_minor": 5
}
